
y=session.models[2].volume.full_matrix().copy()
matrix=numpy.zeros((numpy.shape(y)))
a=numpy.linspace(p[0][0],p[1][0],(abs(p[1][0]-p[0][0])+1))
b=numpy.linspace(p[0][1],p[1][1],(abs(p[1][1]-p[0][1])+1))
c=numpy.linspace(p[0][2],p[1][2],(abs(p[1][2]-p[0][2])+1))
import itertools
q=numpy.array(list(itertools.product(*(a,b,c),repeat=1)),dtype='int')
w=numpy.split(q,3,1)
matrix[w[0],w[1],w[2]]
mask=ArrayGridData(matrix)
volume_from_grid_data(mask,session)