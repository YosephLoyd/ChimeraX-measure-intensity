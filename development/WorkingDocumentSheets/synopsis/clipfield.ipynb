{
 "cells": [
  {
   "cell_type": "code",
   "execution_count": null,
   "metadata": {},
   "outputs": [],
   "source": [
    "\n",
    "from chimerax.color_key import show_key\n",
    "from chimerax.core import colors\n",
    "from chimerax.std_commands.wait import wait\n",
    "from chimerax.surface import vertex_convexity\n",
    "from chimerax.core.commands import (BoolArg, Bounded, CmdDesc, ColormapArg,\n",
    "                                    ColormapRangeArg, Int2Arg, IntArg,\n",
    "                                    SurfacesArg, StringArg, FloatArg, SurfaceArg)\n",
    "from chimerax.core.commands.cli import EnumOf\n",
    "from chimerax.map.volumecommand import volume\n",
    "from chimerax.std_commands.cd import (cd)\n",
    "from os.path import exists\n",
    "import numpy\n",
    "from numpy import (arccos, array, full, inf, isnan, mean, nan, nanmax, nanmean,\n",
    "                   nanmin, pi, ravel_multi_index, sign, split, sqrt, subtract,\n",
    "                   count_nonzero, swapaxes, savetxt, column_stack,nansum, nanstd,\n",
    "                   unique, column_stack, round_, int64, abs, digitize, linspace,\n",
    "                   zeros, where, delete, shape, argmin, min, shape, isin)\n",
    "from scipy.ndimage import (binary_dilation, binary_erosion,\n",
    "                           generate_binary_structure, iterate_structure, gaussian_filter)\n",
    "from scipy.spatial import KDTree\n",
    "from skimage.morphology import (skeletonize,label)\n",
    "import matplotlib.pyplot as plt\n",
    "\n",
    "bcell=m[3].vertices\n",
    "ig=m[1].vertices\n",
    "\n",
    "x,y,z=split((bcell), 3, 1)\n",
    "\n",
    "zarray=zeros(numpy.shape(x))\n",
    "\n",
    "q= 0.083*(484- x)\n",
    "\n",
    "w=0.104*(246 - y)\n",
    "\n",
    "e= -0.991 * (150 - z)\n",
    "\n",
    "\n",
    "plane= (q+w+e)\n",
    "\n",
    "side = plane >0\n"
   ]
  },
  {
   "cell_type": "code",
   "execution_count": null,
   "metadata": {},
   "outputs": [],
   "source": [
    "palette = None\n",
    "color_range = 'full'\n",
    "measurement = side+0\n",
    "palette_string = 'purples'\n",
    "max_range = 15\n",
    "\n",
    "if isnan(measurement).all():\n",
    "    measurement[:] = 0"
   ]
  },
  {
   "cell_type": "code",
   "execution_count": null,
   "metadata": {},
   "outputs": [],
   "source": [
    "if palette is None:\n",
    "    palette = colors.BuiltinColormaps[palette_string]\n",
    "\n",
    "if color_range is not None and color_range != 'full':\n",
    "    rmin, rmax = color_range\n",
    "elif color_range == 'full':\n",
    "    rmin, rmax = nanmin(measurement), nanmax(measurement)\n",
    "else:\n",
    "    rmin, rmax = (0, max_range)"
   ]
  },
  {
   "cell_type": "code",
   "execution_count": null,
   "metadata": {},
   "outputs": [],
   "source": [
    "cmap = palette.rescale_range(rmin, rmax)\n",
    "m[3].vertex_colors = cmap.interpolated_rgba8(measurement[:,0])"
   ]
  }
 ],
 "metadata": {
  "language_info": {
   "name": "python"
  },
  "orig_nbformat": 4
 },
 "nbformat": 4,
 "nbformat_minor": 2
}
