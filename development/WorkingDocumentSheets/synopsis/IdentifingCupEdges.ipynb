{
 "cells": [
  {
   "attachments": {},
   "cell_type": "markdown",
   "metadata": {},
   "source": [
    "The goal of thios projhect is to develop a method to talk about the phagocytic cup's leading edge\n",
    "\n",
    "open X:/Phagocytosis/sRBC/20190614cs1/track_4/test/Cell_CamB_ch0_stack0034_488nm_0256014msec_0003943661msecAbs_decon.tif;\n",
    "open X:/Phagocytosis/sRBC/20190614cs1/track_4/test/Cell_CamA_ch1_stack0034_560nm_0256014msec_0003943661msecAbs_decon.tif;\n",
    "\n",
    "volume #2 style surface level 118 color #ffd059\n",
    "volume #1 style surface level 73 color #2b5884\n",
    "\n",
    "lighting full; \n",
    "lighting depthcue false; \n",
    "ui tool show Shell;\n",
    "\n",
    "measure convexity #1 range 0.3,0.7 smothing iterations 20;"
   ]
  },
  {
   "cell_type": "code",
   "execution_count": null,
   "metadata": {},
   "outputs": [],
   "source": [
    "from chimerax.color_key import show_key\n",
    "from chimerax.core import colors\n",
    "from chimerax.std_commands.wait import wait\n",
    "from chimerax.core.commands import (BoolArg, Bounded, CmdDesc, ColormapArg,\n",
    "                                    ColormapRangeArg, Int2Arg, IntArg,\n",
    "                                    SurfacesArg, StringArg)\n",
    "from chimerax.core.commands.cli import EnumOf\n",
    "from chimerax.map.volumecommand import volume\n",
    "from chimerax.std_commands.cd import (cd)\n",
    "from os.path import exists\n",
    "from numpy import (arccos, array, full, inf, isnan, mean, nan, nanmax, nanmean,\n",
    "                   nanmin, pi, ravel_multi_index, sign, split, sqrt, subtract,\n",
    "                   count_nonzero, swapaxes, savetxt, column_stack,nansum, nanstd,\n",
    "                   unique, column_stack, round_, int64, abs, digitize, linspace,\n",
    "                   zeros, where, delete)\n",
    "from scipy.ndimage import (binary_dilation, binary_erosion,\n",
    "                           generate_binary_structure, iterate_structure, gaussian_filter)\n",
    "from scipy.spatial import KDTree\n",
    "import numpy\n",
    "import scipy\n",
    "import matplotlib.pyplot as plt"
   ]
  },
  {
   "cell_type": "code",
   "execution_count": null,
   "metadata": {},
   "outputs": [],
   "source": [
    "metric='RPD'\n",
    "target ='sRBC'\n",
    "size=(.1028,.1028,.1028)\n",
    "palette=None\n",
    "color_range= None\n",
    "key=False\n",
    "volume(session, voxel_size= size)\n",
    "s= session\n",
    "m= s.models\n",
    "radius = 8\n",
    "target_r = 2\n",
    "centroid = mean(m[3].vertices, axis = 0)\n",
    "\n",
    "x_coord, y_coord, z_coord = split(subtract(centroid, m[1].vertices), 3, 1)\n",
    "\n",
    "z_squared = z_coord ** 2\n",
    "y_squared = y_coord ** 2\n",
    "x_squared = x_coord ** 2\n",
    "\n",
    "distance = sqrt(z_squared + y_squared + x_squared)\n",
    "\n",
    "distxy = sqrt(x_squared + y_squared)\n",
    "\n",
    "\"\"\n",
    "theta = sign(y_coord)*arccos(x_coord / distxy)\n",
    "\n",
    "phi = arccos(z_coord / distance)\n",
    "\n",
    "\"\"\"Logic to identify vertices in the targets local (defined by radius input) around target's upper hemisphere\"\"\"\n",
    "abovePhi = phi <= (pi/2)\n",
    "\n",
    "radialClose = (distance  < radius) & (distance > target_r)\n",
    "\n",
    "con = m[1].convexity\n",
    "edgeind = con>0\n",
    "\n",
    "edgevertices = edgeind\n",
    "edgevertices[edgevertices > 0]=1\n",
    "m[1].edge= edgevertices*1\n"
   ]
  }
 ],
 "metadata": {
  "language_info": {
   "name": "python"
  },
  "orig_nbformat": 4
 },
 "nbformat": 4,
 "nbformat_minor": 2
}
