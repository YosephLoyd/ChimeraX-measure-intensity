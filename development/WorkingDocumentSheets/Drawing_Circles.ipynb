{
 "cells": [
  {
   "cell_type": "markdown",
   "metadata": {},
   "source": [
    "open \"C:/Users/LoydY/OneDrive - SUNY Upstate Medical University/Documents/20240917Phagocytosis/20240917_RAWN164A_002_actin.tif\";\n",
    "\n",
    "open \"C:/Users/LoydY/OneDrive - SUNY Upstate Medical University/Documents/20240917Phagocytosis/20240917_RAWN164A_002_m1e.tif\";\n",
    "\n",
    "open \"C:/Users/LoydY/OneDrive - SUNY Upstate Medical University/Documents/20240917Phagocytosis/20240917_RAWN164A_002_beads.tif\";\n",
    "\n",
    "volume #1 style surface voxelsize 1,1,1.5;\n",
    "marker #2 position 522,815,35.35 color yellow radius 10;\n",
    "\n",
    "ui tool show shell"
   ]
  },
  {
   "cell_type": "code",
   "execution_count": null,
   "metadata": {
    "vscode": {
     "languageId": "plaintext"
    }
   },
   "outputs": [],
   "source": [
    "from chimerax.map_data import ArrayGridData \n",
    "from chimerax.map import volume_from_grid_data\n",
    "import itertools\n",
    "import numpy\n",
    "import scipy\n",
    "import skimage"
   ]
  },
  {
   "cell_type": "code",
   "execution_count": null,
   "metadata": {},
   "outputs": [],
   "source": [
    "y=session.models[2].volume.full_matrix().copy()\n",
    "p= session.models[3].atoms.coords\n",
    "p=numpy.round(p).astype('int')\n",
    "\n",
    "matrix=numpy.zeros((numpy.shape(y)))\n",
    "a=numpy.linspace(p[0,0]-80,p[0,0]+80, 161)\n",
    "b=numpy.linspace(p[0,1]-80,p[0,1]+80, 161)\n",
    "c=numpy.linspace((p[0,2]/1.5)-15,(p[0,2]/1.5)+15, 31)\n",
    "\n",
    "q=numpy.array(list(itertools.product(*(a,b,c),repeat=1)),dtype='int')\n",
    "w=numpy.split(q,3,1)\n",
    "matrix[w[2],w[1],w[0]]=1\n",
    "mask=ArrayGridData(matrix,step=(1,1,1.5))\n",
    "volume_from_grid_data(mask,session)"
   ]
  },
  {
   "cell_type": "markdown",
   "metadata": {},
   "source": [
    "This draws a bos around a marker. Coordnet set is derived from a marker set. "
   ]
  },
  {
   "cell_type": "code",
   "execution_count": null,
   "metadata": {},
   "outputs": [],
   "source": [
    "y=session.models[2].volume.full_matrix().copy()\n",
    "p= session.models[3].atoms.coords\n",
    "p=numpy.round(p).astype('int')\n",
    "\n",
    "for t in range (numpy.shape(p)[0]):\n",
    "    matrix=numpy.zeros((numpy.shape(y)))\n",
    "    a=numpy.linspace(p[t,0]-80,p[t,0]+80, 161)\n",
    "    b=numpy.linspace(p[t,1]-80,p[t,1]+80, 161)\n",
    "    c=numpy.round(numpy.linspace(p[t,2]-15,p[t,2]+15, 31) / 2.5)\n",
    "\n",
    "    q=numpy.array(list(itertools.product(*(a,b,c),repeat=1)),dtype='int')\n",
    "    w=numpy.split(q,3,1)\n",
    "    matrix[w[2],w[1],w[0]]=1\n",
    "    mask=ArrayGridData(matrix,step=(1,1,2.5))\n",
    "    volume_from_grid_data(mask,session)"
   ]
  },
  {
   "cell_type": "code",
   "execution_count": null,
   "metadata": {},
   "outputs": [],
   "source": [
    "'Attempt to add a roof and floor'\n",
    "\n",
    "for t in range (numpy.shape(p)[0]):\n",
    "    matrix=numpy.zeros((numpy.shape(y)))\n",
    "    a=numpy.linspace(p[t,0]-80,p[t,0]+80, 161)\n",
    "    b=numpy.linspace(p[t,1]-80,p[t,1]+80, 161)\n",
    "    zip= numpy.round(p[t,2]/2.5).astype('int')\n",
    "    c=numpy.linspace((zip-15),(zip+15), 31)\n",
    "    \"\"\"Shift down one accounting for 0 start\"\"\"\n",
    "    a=a-1\n",
    "    b=b-1\n",
    "    c=c-1\n",
    "\n",
    "    \"\"\"Gates\"\"\"\n",
    "    j=numpy.delete(a,numpy.where(a>=numpy.shape(matrix)[2]),axis=0) \n",
    "    j=numpy.delete(j,numpy.where(j<0),axis=0)\n",
    "\n",
    "    k=numpy.delete(b,numpy.where(b>=numpy.shape(matrix)[1]),axis=0) \n",
    "    k=numpy.delete(k,numpy.where(k<0),axis=0)\n",
    "\n",
    "    l=numpy.delete(c,numpy.where(c>=numpy.shape(matrix)[0]),axis=0) \n",
    "    l=numpy.delete(l,numpy.where(l<0),axis=0)\n",
    "\n",
    "    q=numpy.array(list(itertools.product(*(j,k,l),repeat=1)),dtype='int')\n",
    "    w=(numpy.split(q,3,1))\n",
    "    matrix[w[2],w[1],w[0]]=1\n",
    "    mask=ArrayGridData(matrix,step=(1,1,2.5))\n",
    "    volume_from_grid_data(mask,session)"
   ]
  },
  {
   "cell_type": "markdown",
   "metadata": {},
   "source": [
    "Draws boxs to a limited ROI failed on 1/22 marks.\n",
    "\n",
    "Will need to test limitiations and move onto auth Threshold concept"
   ]
  },
  {
   "cell_type": "code",
   "execution_count": null,
   "metadata": {},
   "outputs": [],
   "source": [
    "y=session.models[2].volume.full_matrix().copy()\n",
    "p= session.models[3].atoms.coords\n",
    "p=numpy.round(p).astype('int')\n",
    "\n",
    "for t in range (numpy.shape(p)[0]):\n",
    "    matrix=numpy.zeros((numpy.shape(y)))\n",
    "    a=numpy.linspace(p[t,0]-125,p[t,0]+125, 251)\n",
    "    b=numpy.linspace(p[t,1]-125,p[t,1]+125, 251)\n",
    "    zip= numpy.round(p[t,2]/1.5).astype('int')\n",
    "    c=numpy.linspace((zip-40),(zip+40), 81)\n",
    "    \"\"\"Shift down one accounting for 0 start\"\"\"\n",
    "    a=a-1\n",
    "    b=b-1\n",
    "    c=c-1\n",
    "\n",
    "    \"\"\"Gates\"\"\"\n",
    "    j=numpy.delete(a,numpy.where(a>=numpy.shape(matrix)[2]),axis=0) \n",
    "    j=numpy.delete(j,numpy.where(j<0),axis=0)\n",
    "\n",
    "    k=numpy.delete(b,numpy.where(b>=numpy.shape(matrix)[1]),axis=0) \n",
    "    k=numpy.delete(k,numpy.where(k<0),axis=0)\n",
    "\n",
    "    l=numpy.delete(c,numpy.where(c>=numpy.shape(matrix)[0]),axis=0) \n",
    "    l=numpy.delete(l,numpy.where(l<0),axis=0)\n",
    "\n",
    "    q=numpy.array(list(itertools.product(*(j,k,l),repeat=1)),dtype='int')\n",
    "    w=(numpy.split(q,3,1))\n",
    "    matrix[w[2],w[1],w[0]]=1\n",
    "    mask=ArrayGridData(matrix,step=(1,1,1.5))\n",
    "    volume_from_grid_data(mask,session)"
   ]
  },
  {
   "cell_type": "markdown",
   "metadata": {},
   "source": []
  },
  {
   "cell_type": "code",
   "execution_count": null,
   "metadata": {},
   "outputs": [],
   "source": [
    "welp=matrix*y\n",
    "mask=ArrayGridData(welp,step=(1,1,1.5))\n",
    "volume_from_grid_data(mask,session)\n"
   ]
  },
  {
   "cell_type": "markdown",
   "metadata": {},
   "source": [
    "bernson auto-thresh (failed as capallaries are in close proximity to eachother in 3d might consider a 2d iterative approach )"
   ]
  },
  {
   "cell_type": "code",
   "execution_count": null,
   "metadata": {},
   "outputs": [],
   "source": [
    "welp=matrix*y\n",
    "welp[welp==0] = numpy.nan\n",
    "radius=10\n",
    "help= numpy.zeros(numpy.shape(welp))\n",
    "for h in range(numpy.min(w[2]),numpy.max(w[2])):\n",
    "    for g in range(numpy.min(w[1]),numpy.max(w[1])):\n",
    "        for f in range(numpy.min(w[0]),numpy.max(w[0])):\n",
    "            fl=numpy.int32(numpy.linspace(f-radius,radius+f, 2*radius+1))-1\n",
    "            gl=numpy.int32(numpy.linspace(g-radius,radius+g, 2*radius+1))-1\n",
    "            hl=numpy.int32(numpy.linspace(h-radius,radius+h, 2*radius+1))-1\n",
    "            Thresh= (numpy.nanmax(welp[hl,gl,fl])-numpy.nanmin(welp[hl,gl,fl]))/2\n",
    "            contrast= (numpy.nanmax(welp[hl,gl,fl])-numpy.nanmin(welp[hl,gl,fl]))\n",
    "            if contrast < 450:\n",
    "                welp[h,g,f]= numpy.nan\n",
    "            else:\n",
    "                welp[h,g,f]= welp[h,g,f]\n",
    "            \n",
    "            if welp[h,g,f] >= (Thresh):\n",
    "                help[h,g,f]= 1\n",
    "            else:\n",
    "                help[h,g,f]=0"
   ]
  },
  {
   "cell_type": "code",
   "execution_count": null,
   "metadata": {},
   "outputs": [],
   "source": [
    "welp=matrix*y\n",
    "welp[welp==0] = numpy.nan\n",
    "radius=5\n",
    "help= numpy.zeros(numpy.shape(welp))\n",
    "for h in range(numpy.min(w[2]),numpy.max(w[2])):\n",
    "    for g in range(numpy.min(w[1]),numpy.max(w[1])):\n",
    "        for f in range(numpy.min(w[0]),numpy.max(w[0])):\n",
    "            fl=numpy.int32(numpy.linspace(f-radius,radius+f, 2*radius+1))-1\n",
    "            gl=numpy.int32(numpy.linspace(g-radius,radius+g, 2*radius+1))-1\n",
    "            hl=numpy.int32(numpy.linspace(h-radius,radius+h, 2*radius+1))-1\n",
    "            standardD = numpy.nanstd(welp[hl,gl,fl])*0.15\n",
    "            Thresh= ((numpy.nanmax(welp[hl,gl,fl])-numpy.nanmin(welp[hl,gl,fl]))/2)-standardD\n",
    "            contrast= (numpy.nanmax(welp[hl,gl,fl])-numpy.nanmin(welp[hl,gl,fl]))-standardD\n",
    "            \n",
    "            if contrast < 450:\n",
    "                welp[h,g,f]= numpy.nan\n",
    "            else:\n",
    "                welp[h,g,f]= welp[h,g,f]\n",
    "            \n",
    "            if welp[h,g,f] >= (Thresh):\n",
    "                help[h,g,f]= 1\n",
    "            else:\n",
    "                help[h,g,f]=0"
   ]
  },
  {
   "cell_type": "markdown",
   "metadata": {},
   "source": [
    "simple mean at"
   ]
  },
  {
   "cell_type": "code",
   "execution_count": null,
   "metadata": {},
   "outputs": [],
   "source": [
    "welp[welp==0] = numpy.nan \n",
    "radius=10\n",
    "help= numpy.zeros(numpy.shape(welp))\n",
    "for h in range(numpy.min(w[2]),numpy.max(w[2])):\n",
    "    for g in range(numpy.min(w[1]),numpy.max(w[1])):\n",
    "        for f in range(numpy.min(w[0]),numpy.max(w[0])):\n",
    "            fl=numpy.int32(numpy.linspace(f-radius,radius+f, 2*radius+1))-1\n",
    "            gl=numpy.int32(numpy.linspace(g-radius,radius+g, 2*radius+1))-1\n",
    "            hl=numpy.int32(numpy.linspace(h-radius,radius+h, 2*radius+1))-1\n",
    "            local_avg= numpy.nanmean(welp[hl,gl,fl])\n",
    "            if welp[h,g,f] >= (local_avg):\n",
    "                help[h,g,f]= 1\n",
    "            else:\n",
    "                help[h,g,f]=0\n",
    "            "
   ]
  },
  {
   "cell_type": "code",
   "execution_count": null,
   "metadata": {},
   "outputs": [],
   "source": [
    "welp=matrix*y\n",
    "welp[welp==0] = numpy.nan\n",
    "radius=10\n",
    "help= numpy.zeros(numpy.shape(welp))\n",
    "for h in range(numpy.nanmin(w[2]),numpy.nanmax(w[2])):\n",
    "    for g in range(numpy.nanmin(w[1]),numpy.nanmax(w[1])):\n",
    "        for f in range(numpy.nanmin(w[0]),numpy.nanmax(w[0])):\n",
    "            fl=numpy.int32(numpy.linspace(f-radius,radius+f, 2*radius+1))-1\n",
    "            gl=numpy.int32(numpy.linspace(g-radius,radius+g, 2*radius+1))-1\n",
    "            hl=numpy.int32(numpy.linspace(h-radius,radius+h, 2*radius+1))-1\n",
    "            Thresh= (numpy.nanmax(welp[hl,gl,fl])-numpy.nanmin(welp[hl,gl,fl]))/2\n",
    "            contrast= (numpy.nanmax(welp[hl,gl,fl])-numpy.nanmin(welp[hl,gl,fl]))\n",
    "            if contrast < 450:\n",
    "                welp[h,g,f]= numpy.nan\n",
    "            else:\n",
    "                welp[h,g,f]= welp[h,g,f]\n",
    "            \n",
    "            if welp[h,g,f] >= (Thresh):\n",
    "                help[h,g,f]= 1\n",
    "            else:\n",
    "                help[h,g,f]=0"
   ]
  },
  {
   "cell_type": "code",
   "execution_count": null,
   "metadata": {},
   "outputs": [],
   "source": [
    "welp=matrix*y\n",
    "welp[welp==0] = numpy.nan \n",
    "radius=10\n",
    "elp= numpy.zeros(numpy.shape(welp))\n",
    "for h in range(numpy.nanmin(w[2]),numpy.nanmax(w[2])):\n",
    "    for g in range(numpy.nanmin(w[1]),numpy.nanmax(w[1])):\n",
    "        for f in range(numpy.nanmin(w[0]),numpy.nanmax(w[0])):\n",
    "            fl=numpy.int32(numpy.linspace(f-radius,radius+f, 2*radius+1))-1\n",
    "            gl=numpy.int32(numpy.linspace(g-radius,radius+g, 2*radius+1))-1\n",
    "            hl=numpy.int32(numpy.linspace(h-radius,radius+h, 2*radius+1))-1\n",
    "            local_avg= numpy.nanmean(welp[hl,gl,fl])\n",
    "            if welp[h,g,f] >= (local_avg):\n",
    "                elp[h,g,f]= 1\n",
    "            else:\n",
    "                elp[h,g,f]=0"
   ]
  },
  {
   "cell_type": "markdown",
   "metadata": {},
   "source": [
    "overlap of mask"
   ]
  },
  {
   "cell_type": "code",
   "execution_count": null,
   "metadata": {},
   "outputs": [],
   "source": [
    "yelp = help*elp\n",
    "mask=ArrayGridData(yelp,step=(1,1,1.5))\n",
    "volume_from_grid_data(mask,session)"
   ]
  },
  {
   "cell_type": "markdown",
   "metadata": {},
   "source": [
    "fail much close to the ideal threshold"
   ]
  },
  {
   "cell_type": "markdown",
   "metadata": {},
   "source": []
  },
  {
   "cell_type": "code",
   "execution_count": null,
   "metadata": {},
   "outputs": [],
   "source": [
    "welp=matrix*y\n",
    "welp[welp==0] = numpy.nan \n",
    "radius=6\n",
    "elp= numpy.zeros(numpy.shape(welp))\n",
    "for h in range(numpy.nanmin(w[2]),numpy.nanmax(w[2])):\n",
    "    for g in range(numpy.nanmin(w[1]),numpy.nanmax(w[1])):\n",
    "        for f in range(numpy.nanmin(w[0]),numpy.nanmax(w[0])):\n",
    "            fl=numpy.int32(numpy.linspace(f-radius,radius+f, 2*radius+1))-1\n",
    "            gl=numpy.int32(numpy.linspace(g-radius,radius+g, 2*radius+1))-1\n",
    "            hl=numpy.int32(numpy.linspace(h-radius,radius+h, 2*radius+1))-1\n",
    "            local_avg= numpy.nanmean(welp[hl,gl,fl])\n",
    "            stan=numpy.nanstd(welp[hl,gl,fl])\n",
    "            if welp[h,g,f] >= (local_avg-(0.5*stan)):\n",
    "                elp[h,g,f]= 1\n",
    "            else:\n",
    "                elp[h,g,f]=0"
   ]
  },
  {
   "cell_type": "markdown",
   "metadata": {},
   "source": [
    "Sauvola thresholding"
   ]
  },
  {
   "cell_type": "code",
   "execution_count": null,
   "metadata": {},
   "outputs": [],
   "source": [
    "welp=matrix*y\n",
    "welp[welp==0] = numpy.nan \n",
    "radius=5\n",
    "elp= numpy.zeros(numpy.shape(welp))\n",
    "for h in range(numpy.nanmin(w[2]),numpy.nanmax(w[2])):\n",
    "    for g in range(numpy.nanmin(w[1]),numpy.nanmax(w[1])):\n",
    "        for f in range(numpy.nanmin(w[0]),numpy.nanmax(w[0])):\n",
    "            fl=numpy.int32(numpy.linspace(f-radius,radius+f, 2*radius+1))-1\n",
    "            gl=numpy.int32(numpy.linspace(g-radius,radius+g, 2*radius+1))-1\n",
    "            hl=numpy.int32(numpy.linspace(h-radius,radius+h, 2*radius+1))-1\n",
    "            local_avg= numpy.nanmean(welp[hl,gl,fl])\n",
    "            stan=numpy.nanstd(welp[hl,gl,fl])\n",
    "            R=numpy.nanmax(welp[hl,gl,fl])-numpy.nanmin(welp[hl,gl,fl])\n",
    "            if welp[h,g,f] >= (local_avg-(0.5*((stan/R)-1))):\n",
    "                elp[h,g,f]= 1\n",
    "            else:\n",
    "                elp[h,g,f]=0"
   ]
  },
  {
   "cell_type": "markdown",
   "metadata": {},
   "source": [
    "sauvola - roi wedge (reduced z radius)"
   ]
  },
  {
   "cell_type": "code",
   "execution_count": null,
   "metadata": {},
   "outputs": [],
   "source": [
    "welp=matrix*y\n",
    "welp[welp==0] = numpy.nan \n",
    "radius=4\n",
    "zradius=2\n",
    "elp= numpy.zeros(numpy.shape(welp))\n",
    "for h in range(numpy.nanmin(w[2]),numpy.nanmax(w[2])):\n",
    "    for g in range(numpy.nanmin(w[1]),numpy.nanmax(w[1])):\n",
    "        for f in range(numpy.nanmin(w[0]),numpy.nanmax(w[0])):\n",
    "            fl=numpy.int32(numpy.linspace(f-radius,radius+f, 2*radius+1))-1\n",
    "            gl=numpy.int32(numpy.linspace(g-radius,radius+g, 2*radius+1))-1\n",
    "            hl=numpy.int32(numpy.linspace(h-zradius,zradius+h, 2*zradius+1))-1\n",
    "            \n",
    "            ql=numpy.array(list(itertools.product(*(fl,gl,hl),repeat=1)),dtype='int')\n",
    "            wl=(numpy.split(ql,3,1))\n",
    "            \n",
    "            local_avg= numpy.nanmean(welp[wl[2],wl[1],wl[0]])\n",
    "            stan=numpy.nanstd(welp[wl[2],wl[1],wl[0]])\n",
    "            R=numpy.nanmax(welp[wl[2],wl[1],wl[0]])-numpy.nanmin(welp[wl[2],wl[1],wl[0]])\n",
    "            if welp[h,g,f] >= (local_avg-(0.5*((stan/R)-1))):\n",
    "                elp[h,g,f]= 1\n",
    "            else:\n",
    "                elp[h,g,f]=0"
   ]
  },
  {
   "cell_type": "markdown",
   "metadata": {},
   "source": [
    "sauvola - roi 2d square iterative - same as wedge"
   ]
  },
  {
   "cell_type": "code",
   "execution_count": null,
   "metadata": {},
   "outputs": [],
   "source": [
    "welp=matrix*y\n",
    "welp[welp==0] = numpy.nan \n",
    "radius=5\n",
    "zradius=0\n",
    "elp= numpy.zeros(numpy.shape(welp))\n",
    "for h in range(numpy.nanmin(w[2]),numpy.nanmax(w[2])):\n",
    "    for g in range(numpy.nanmin(w[1]),numpy.nanmax(w[1])):\n",
    "        for f in range(numpy.nanmin(w[0]),numpy.nanmax(w[0])):\n",
    "            fl=numpy.int32(numpy.linspace(f-radius,radius+f, 2*radius+1))-1\n",
    "            gl=numpy.int32(numpy.linspace(g-radius,radius+g, 2*radius+1))-1\n",
    "            hl=numpy.int32(numpy.linspace(h-zradius,zradius+h, 2*zradius+1))-1\n",
    "            \n",
    "            ql=numpy.array(list(itertools.product(*(fl,gl,hl),repeat=1)),dtype='int')\n",
    "            wl=(numpy.split(ql,3,1))\n",
    "            \n",
    "            local_avg= numpy.nanmean(welp[wl[2],wl[1],wl[0]])\n",
    "            stan=numpy.nanstd(welp[wl[2],wl[1],wl[0]])\n",
    "            R=numpy.nanmax(welp[wl[2],wl[1],wl[0]])-numpy.nanmin(welp[wl[2],wl[1],wl[0]])\n",
    "            if welp[h,g,f] >= (local_avg-(0.5*((stan/R)-1))):\n",
    "                elp[h,g,f]= 1\n",
    "            else:\n",
    "                elp[h,g,f]=0"
   ]
  },
  {
   "cell_type": "markdown",
   "metadata": {},
   "source": []
  },
  {
   "cell_type": "code",
   "execution_count": null,
   "metadata": {},
   "outputs": [],
   "source": [
    "y=session.models[2].volume.full_matrix().copy()\n",
    "p= session.models[3].atoms.coords\n",
    "p=numpy.round(p).astype('int')\n",
    "\n",
    "matrix=numpy.zeros((numpy.shape(y)))\n",
    "a=numpy.linspace(p[0,0]-200,p[0,0]+200, 401)\n",
    "b=numpy.linspace(p[0,1]-200,p[0,1]+200, 401)\n",
    "c=numpy.linspace((p[0,2]/1.5)-20,(p[0,2]/1.5)+20, 41)\n",
    "\n",
    "q=numpy.array(list(itertools.product(*(a,b,c),repeat=1)),dtype='int')\n",
    "w=numpy.split(q,3,1)\n",
    "matrix[w[2],w[1],w[0]]=1\n",
    "\n",
    "welp=matrix*y\n",
    "welp[welp==0] = numpy.nan\n",
    "radius=3\n",
    "help= numpy.zeros(numpy.shape(welp))\n",
    "for h in range(numpy.min(w[2]),numpy.max(w[2])):\n",
    "    for g in range(numpy.min(w[1]),numpy.max(w[1])):\n",
    "        for f in range(numpy.min(w[0]),numpy.max(w[0])):\n",
    "            fl=numpy.int32(numpy.linspace(f-radius,radius+f, 2*radius+1))-1\n",
    "            gl=numpy.int32(numpy.linspace(g-radius,radius+g, 2*radius+1))-1\n",
    "            hl=numpy.int32(numpy.linspace(h-radius,radius+h, 2*radius+1))-1\n",
    "            if numpy.isnan((welp[hl,gl,fl].all()))==False:\n",
    "                standardD = numpy.nanstd(welp[hl,gl,fl])*0.15\n",
    "                Thresh= ((numpy.nanmax(welp[hl,gl,fl])-numpy.nanmin(welp[hl,gl,fl]))/2)+standardD\n",
    "                contrast= (numpy.nanmax(welp[hl,gl,fl])-numpy.nanmin(welp[hl,gl,fl]))\n",
    "            else:\n",
    "                help = numpy.nan\n",
    "            \n",
    "            if contrast < 450:\n",
    "                welp[h,g,f]= numpy.nan\n",
    "            else:\n",
    "                welp[h,g,f]= welp[h,g,f]\n",
    "            \n",
    "            if welp[h,g,f] >= (Thresh):\n",
    "                help[h,g,f]= 1\n",
    "            else:\n",
    "                help[h,g,f]=0"
   ]
  },
  {
   "cell_type": "code",
   "execution_count": null,
   "metadata": {},
   "outputs": [],
   "source": [
    "\n",
    "telp=skimage.morphology.erosion(help)\n",
    "\n",
    "telp=skimage.morphology.dilation(telp)"
   ]
  }
 ],
 "metadata": {
  "language_info": {
   "name": "python"
  }
 },
 "nbformat": 4,
 "nbformat_minor": 2
}
