{
 "cells": [
  {
   "attachments": {},
   "cell_type": "markdown",
   "metadata": {},
   "source": [
    "The goal of thios projhect is to develop a method to talk about the phagocytic cup's leading edge\n",
    "\n",
    "open X:/Phagocytosis/sRBC/20190614cs1/track_4/test/Cell_CamB_ch0_stack0034_488nm_0256014msec_0003943661msecAbs_decon.tif;\n",
    "open X:/Phagocytosis/sRBC/20190614cs1/track_4/test/Cell_CamA_ch1_stack0034_560nm_0256014msec_0003943661msecAbs_decon.tif;\n",
    "\n",
    "volume #2 style surface level 118 color #ffd059\n",
    "volume #1 style surface level 73 color #2b5884\n",
    "\n",
    "lighting full; \n",
    "lighting depthcue false; \n",
    "ui tool show Shell;"
   ]
  },
  {
   "cell_type": "code",
   "execution_count": null,
   "metadata": {},
   "outputs": [],
   "source": [
    "from chimerax.color_key import show_key\n",
    "from chimerax.core import colors\n",
    "from chimerax.core.commands import (BoolArg, Bounded, CmdDesc, ColormapArg,\n",
    "                                    ColormapRangeArg, Int2Arg, IntArg,\n",
    "                                    SurfacesArg)\n",
    "from chimerax.core.commands.cli import EnumOf\n",
    "from chimerax.surface import (surface_area, vertex_convexity)\n",
    "from chimerax.map.volumecommand import volume\n",
    "from numpy import (arccos, array, full, inf, isnan, mean, nan, nanmax, nanmean,\n",
    "                   nanmin, pi, ravel_multi_index, sign, split, sqrt, subtract,\n",
    "                   swapaxes, savetxt, column_stack,nansum, count_nonzero)\n",
    "from scipy.ndimage import (binary_dilation, binary_erosion,\n",
    "                           generate_binary_structure, iterate_structure)\n",
    "from scipy.spatial import KDTree"
   ]
  },
  {
   "cell_type": "code",
   "execution_count": null,
   "metadata": {},
   "outputs": [],
   "source": [
    "s= session\n",
    "m= s.models\n",
    "\n",
    "centroid = mean(m[3].vertices, axis = 0)\n",
    "\n",
    "x_coord, y_coord, z_coord = split(subtract(centroid, m[1].vertices), 3, 1)\n",
    "\n",
    "z_squared = z_coord ** 2\n",
    "y_squared = y_coord ** 2\n",
    "x_squared = x_coord ** 2\n",
    "\n",
    "distance = sqrt(z_squared + y_squared + x_squared)\n",
    "\n",
    "distxy = sqrt(x_squared + y_squared)\n",
    "\n",
    "\"\"\n",
    "theta = sign(y_coord)*arccos(x_coord / distxy)\n",
    "\n",
    "phi = arccos(z_coord / dist)\n",
    "\n",
    "radius = 5\n",
    "\n",
    "abovePhi = phi <= (pi/2)\n",
    "radialClose = (distance*.1208)  < radius\n",
    "radialDistanceAbovePhiLimitxy = abovePhi * radialClose * distance\n",
    "\n",
    "m[3].radialDistanceAbovePhiNoNans= abovePhi * radialClose * distance\n",
    "radialDistanceAbovePhiLimitxy[radialDistanceAbovePhiLimitxy == 0] = nan\n"
   ]
  }
 ],
 "metadata": {
  "language_info": {
   "name": "python"
  },
  "orig_nbformat": 4
 },
 "nbformat": 4,
 "nbformat_minor": 2
}
